{
 "cells": [
  {
   "cell_type": "markdown",
   "id": "0d5fd286",
   "metadata": {},
   "source": [
    "### **MiraMon Integral Index of Connectivity (ICT)** - calculating habitat connectivity\n",
    "\n",
    "**NOTE**: for the command line steps please use your terminal app instead of running Jupyter cells as it allows to see full logs.\n",
    "\n",
    "\n",
    "**1st step.** Our **GraphabProc** component compresses all output raster with decimal values using ZSTD compression. However, MiraMon ICT doesn't support this compression option. Therefore, we need to rewrite this data with `NONE` compression:\n"
   ]
  },
  {
   "cell_type": "code",
   "execution_count": null,
   "id": "213d9805",
   "metadata": {
    "vscode": {
     "languageId": "shellscript"
    }
   },
   "outputs": [],
   "source": [
    "for /R %s in (*.tif *.tiff) do (gdal_translate -of GTiff -co \"COMPRESS=None\" \"%s\" \"%~dpns_not.tif\" && del \"%s\" && ren \"%~dpns_not.tif\" \"%~nxs\")"
   ]
  },
  {
   "cell_type": "markdown",
   "id": "7ca89676",
   "metadata": {},
   "source": [
    "The command above applies to all GeoTIFF datasets in the current directory, without definition."
   ]
  },
  {
   "cell_type": "markdown",
   "id": "ca5c0dc6",
   "metadata": {},
   "source": [
    "**2nd step.** Then, we have to convert the original GeoTIFF datasets to the IMG format as MiraMon ICT supports only this format for input data. This will also create auxiliary `.rel` files, which are used by MiraMon to store metadata."
   ]
  },
  {
   "cell_type": "code",
   "execution_count": null,
   "id": "b27a3590",
   "metadata": {
    "vscode": {
     "languageId": "shellscript"
    }
   },
   "outputs": [],
   "source": [
    "for /R %s in (*.tif *.tiff) do @echo Processing: \"%s\" & D:\\Programs\\Miramon\\TIFIMG 2 \"%s\" \"%~dpns.img\""
   ]
  },
  {
   "cell_type": "markdown",
   "id": "ee501c99",
   "metadata": {},
   "source": [
    "You will see many log entries, describing the intermediate steps."
   ]
  },
  {
   "cell_type": "markdown",
   "id": "c904fd5f",
   "metadata": {},
   "source": [
    "**3rd step.** To launch ICT computations, run the prepared batch file. This batch file:\n",
    "- founds matching filenames of input datasets (landscape impedance and landscape affinity)\n",
    "- defines the filename of output connectivity dataset\n",
    "- defines the parameters of MiraMon ICT command\n",
    "\n",
    "List your case studies, when you run this batch file. In our example, these are `albera_buf_edge_upd` and `albera_buf_nedge_upd`.\n",
    "\n",
    "For each case study you can define the parameters of sampling distance and exploration radius separately:\n",
    "`case_study`:`distance`:`radius`, for example:\n",
    "\n",
    "`albera_buf_edge_upd:30:525`.\n",
    "\n",
    "For the input datasets with a spatial resolution of 390 m, covering the whole Catalonia, we used the parameters 390:585.\n",
    "For the input datasets with a spatial resolution of 30 m, we used the parameters 30:525."
   ]
  },
  {
   "cell_type": "markdown",
   "id": "93ee4313",
   "metadata": {},
   "source": [
    "**IMPORTANT:** exploration radius, when doubled and divided by the cell side (spatial resolution) of the original files, should be equal to an odd number. Example: (525*2)/30 = 35 (valid)."
   ]
  },
  {
   "cell_type": "markdown",
   "id": "0857f0cf",
   "metadata": {},
   "source": [
    "**OTHER PARAMETERS**: \n",
    "1. You must also specify if the MiraMon ICT should rewrite existing output datasets if they've been created previously during your calculations:<br>\n",
    "`auto_confirm`:`false` or `auto_confirm`:`true`<br><br>\n",
    "2. It is mandatory to define your local directory where MiraMon ICT was installed:<br>\n",
    "`miramon_dir`:`D:\\Programs\\Miramon`"
   ]
  },
  {
   "cell_type": "code",
   "execution_count": null,
   "id": "49713d58",
   "metadata": {
    "vscode": {
     "languageId": "shellscript"
    }
   },
   "outputs": [
    {
     "name": "stdout",
     "output_type": "stream",
     "text": [
      "^C\n"
     ]
    }
   ],
   "source": [
    "!task.bat albera_buf_edge_upd:30:525 albera_buf_nedge_upd:30:525 auto_confirm:true miramon_dir:D:\\Programs\\Miramon"
   ]
  },
  {
   "cell_type": "markdown",
   "id": "d457b6ec",
   "metadata": {},
   "source": [
    "In the example above, we specify two case studies with the numerical parameters and also check if we would like to auto-confirm overwriting output datasets.\n",
    "\n",
    "\n",
    "If everything is correct, you will see MiraMon ICT, calculating the index column by column, row by row in the same or separated window (depending on your terminal app). Please allow ample time to complete estimations. If you have previously calculated these indices, the program will ask if you want to overwrite the output files."
   ]
  },
  {
   "cell_type": "markdown",
   "id": "26e453e8",
   "metadata": {},
   "source": [
    "Once it is completed, let's check metadata of an of the Miramon ICT output files:"
   ]
  },
  {
   "cell_type": "code",
   "execution_count": null,
   "id": "0c13d5a0",
   "metadata": {},
   "outputs": [],
   "source": [
    "from utils import check_metadata\n",
    "\n",
    "check_metadata()"
   ]
  },
  {
   "cell_type": "markdown",
   "id": "a4bcf5cf",
   "metadata": {},
   "source": [
    "**4th step.** Once Miramon completed the computation, we need to transform the outputs in IMG format back to TIFF for subsequent analysis:"
   ]
  },
  {
   "cell_type": "code",
   "execution_count": null,
   "id": "83ec7482",
   "metadata": {
    "vscode": {
     "languageId": "shellscript"
    }
   },
   "outputs": [],
   "source": [
    "for /R %s in (*.img) do @echo Processing: \"%s\" & D:\\Programs\\Miramon\\TIFIMG 6 \"%s\" \"%~dpns.tif\" "
   ]
  },
  {
   "cell_type": "markdown",
   "id": "8b1902e4",
   "metadata": {},
   "source": [
    "That's done, now you have Index of Terrestrial Connectivity outputs located in `data\\case_study\\ict` directory."
   ]
  }
 ],
 "metadata": {
  "kernelspec": {
   "display_name": "base",
   "language": "python",
   "name": "python3"
  },
  "language_info": {
   "codemirror_mode": {
    "name": "ipython",
    "version": 3
   },
   "file_extension": ".py",
   "mimetype": "text/x-python",
   "name": "python",
   "nbconvert_exporter": "python",
   "pygments_lexer": "ipython3",
   "version": "3.9.20"
  }
 },
 "nbformat": 4,
 "nbformat_minor": 5
}
